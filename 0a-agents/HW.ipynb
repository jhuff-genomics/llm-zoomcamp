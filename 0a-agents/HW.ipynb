{
 "cells": [
  {
   "cell_type": "code",
   "execution_count": null,
   "id": "55c74d88-0024-4c99-a483-ae6d9679e388",
   "metadata": {},
   "outputs": [],
   "source": [
    "import random\n",
    "\n",
    "known_weather_data = {\"berlin\": 20.0}\n",
    "\n",
    "\n",
    "def get_weather(city: str) -> float:\n",
    "    city = city.strip().lower()\n",
    "\n",
    "    if city in known_weather_data:\n",
    "        return known_weather_data[city]\n",
    "\n",
    "    return round(random.uniform(-5, 35), 1)"
   ]
  },
  {
   "cell_type": "code",
   "execution_count": null,
   "id": "53238b68-67a6-4cd5-b748-6d70bdfc2eb0",
   "metadata": {},
   "outputs": [],
   "source": [
    "get_weather_tool = {\n",
    "    \"type\": \"function\",\n",
    "    \"name\": \"get_weather\",\n",
    "    \"description\": \"Get the current weather for a specified location.\",\n",
    "    \"parameters\": {\n",
    "        \"type\": \"object\",\n",
    "        \"properties\": {\n",
    "            \"location\": {\n",
    "                \"type\": \"string\",\n",
    "                \"description\": \"The city and state, e.g., San Francisco, CA\",\n",
    "            }\n",
    "        },\n",
    "        \"required\": [\"location\"],\n",
    "        \"additionalProperties\": False,\n",
    "    },\n",
    "}"
   ]
  },
  {
   "cell_type": "code",
   "execution_count": null,
   "id": "5556578e-b32d-4543-814c-9d210d3cb753",
   "metadata": {},
   "outputs": [],
   "source": [
    "!uv pip install fastmcp"
   ]
  },
  {
   "cell_type": "code",
   "execution_count": null,
   "id": "bcc3b632-f01e-4563-9fcd-951ce6ffec41",
   "metadata": {},
   "outputs": [],
   "source": [
    "import fastmcp\n",
    "\n",
    "fastmcp.__version__"
   ]
  },
  {
   "cell_type": "code",
   "execution_count": null,
   "id": "c2f257ce-d4b4-40b4-b8f6-16142571fb35",
   "metadata": {},
   "outputs": [],
   "source": [
    "!uv pip install openai"
   ]
  },
  {
   "cell_type": "code",
   "execution_count": null,
   "id": "5e0b590a-7189-45c8-a03d-e8485f553edd",
   "metadata": {},
   "outputs": [],
   "source": [
    "import os\n",
    "from dotenv import load_dotenv\n",
    "from openai import OpenAI\n",
    "\n",
    "load_dotenv()\n",
    "\n",
    "client = OpenAI(api_key=os.getenv(\"OPENAI_API_KEY\"))"
   ]
  },
  {
   "cell_type": "code",
   "execution_count": null,
   "id": "b03b6392-6f59-478d-a348-214322e44158",
   "metadata": {},
   "outputs": [],
   "source": [
    "client.responses.create(\n",
    "    model=\"gpt-5-nano\",\n",
    "    input=\"Hello, how are you?\",\n",
    ")"
   ]
  },
  {
   "cell_type": "code",
   "execution_count": null,
   "id": "9963cd23-0c04-491f-9039-036f4d45e7f2",
   "metadata": {},
   "outputs": [],
   "source": [
    "!uv pip install markdown"
   ]
  },
  {
   "cell_type": "code",
   "execution_count": null,
   "id": "caf55dc1-4ed8-468b-9220-e62a82576371",
   "metadata": {},
   "outputs": [],
   "source": [
    "from chat_assistant import ChatAssistant, ChatInterface, Tools"
   ]
  },
  {
   "cell_type": "code",
   "execution_count": null,
   "id": "2f9dee21-e664-4a9b-8571-03ae4bf1e850",
   "metadata": {},
   "outputs": [],
   "source": [
    "chat_tools = Tools()\n",
    "# chat_tools.add_tool(get_weather_tool, \"get_weather\")"
   ]
  },
  {
   "cell_type": "code",
   "execution_count": null,
   "id": "5790c075-33e0-424c-be43-728ce1cf9301",
   "metadata": {},
   "outputs": [],
   "source": [
    "chat = ChatAssistant(chat_tools, \"\", chat_interface=ChatInterface(), client=client)"
   ]
  },
  {
   "cell_type": "code",
   "execution_count": null,
   "id": "25bec29b-e72b-4132-a398-4daf7225c6cb",
   "metadata": {},
   "outputs": [],
   "source": [
    "chat.run()"
   ]
  },
  {
   "cell_type": "code",
   "execution_count": null,
   "id": "5aded801-97c9-463f-af3c-d50ebbe01211",
   "metadata": {},
   "outputs": [],
   "source": [
    "!uv pip install fastmcp"
   ]
  },
  {
   "cell_type": "code",
   "execution_count": null,
   "id": "53672a10-745b-4955-bf6d-82b6dcea64ca",
   "metadata": {},
   "outputs": [],
   "source": []
  }
 ],
 "metadata": {
  "kernelspec": {
   "display_name": "Python 3 (ipykernel)",
   "language": "python",
   "name": "python3"
  },
  "language_info": {
   "codemirror_mode": {
    "name": "ipython",
    "version": 3
   },
   "file_extension": ".py",
   "mimetype": "text/x-python",
   "name": "python",
   "nbconvert_exporter": "python",
   "pygments_lexer": "ipython3",
   "version": "3.12.1"
  }
 },
 "nbformat": 4,
 "nbformat_minor": 5
}
